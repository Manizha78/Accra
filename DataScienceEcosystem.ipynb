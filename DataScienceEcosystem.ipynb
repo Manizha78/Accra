{
 "cells": [
  {
   "cell_type": "markdown",
   "id": "fe65fb38",
   "metadata": {},
   "source": [
    "# Data Science Tools and Ecosystem"
   ]
  },
  {
   "cell_type": "markdown",
   "id": "540aa322",
   "metadata": {},
   "source": [
    "In this notebook, Data Science Tools and Ecosystem are summarized."
   ]
  },
  {
   "cell_type": "markdown",
   "id": "4c785ac0",
   "metadata": {},
   "source": [
    "Some of the popular languages that Data Sientists use are:\n",
    "1. Python.\n",
    "2. R.\n",
    "3. SQL.\n",
    "3. Java.\n",
    "4. Julia.\n",
    "5. Scala.\n",
    "6. C/C++.\n",
    "7. JavaScript.\n"
   ]
  },
  {
   "cell_type": "markdown",
   "id": "6c2eecbd",
   "metadata": {},
   "source": [
    "Some of the commonly used libraries used by Data Scientists include:\n",
    "\n",
    "1. TensorFlow.\n",
    "2. NumPy.\n",
    "3. Pandas. \n",
    "4. Matplotlib.\n",
    "5. Seaborn\n",
    "6. SciKit-Learn.\n",
    "7. Keras.\n",
    "8. PyTorch."
   ]
  },
  {
   "cell_type": "markdown",
   "id": "e636b227",
   "metadata": {},
   "source": [
    "## Data Science Tools"
   ]
  },
  {
   "cell_type": "raw",
   "id": "69307193",
   "metadata": {},
   "source": [
    "1.Jupyter Notebooks\n",
    "2. Apache Spark\n",
    "3. RStudio"
   ]
  },
  {
   "cell_type": "markdown",
   "id": "622221ed",
   "metadata": {},
   "source": [
    "### Below are a few examples of evaluating arithmetic expressions in Python."
   ]
  },
  {
   "cell_type": "code",
   "execution_count": 1,
   "id": "efc134dc",
   "metadata": {},
   "outputs": [
    {
     "data": {
      "text/plain": [
       "17"
      ]
     },
     "execution_count": 1,
     "metadata": {},
     "output_type": "execute_result"
    }
   ],
   "source": [
    "# This is simple arithmetic expression to multiply then add integers.\n",
    "(3*4)+5"
   ]
  },
  {
   "cell_type": "code",
   "execution_count": 2,
   "id": "6db477a1",
   "metadata": {},
   "outputs": [
    {
     "name": "stdout",
     "output_type": "stream",
     "text": [
      "3.3333333333333335\n"
     ]
    }
   ],
   "source": [
    "# This will convert 200 minutes to hours by dividing by 60.\n",
    "x=200/60\n",
    "print(x)"
   ]
  },
  {
   "cell_type": "markdown",
   "id": "30812ef5",
   "metadata": {},
   "source": [
    "#### Objectives:"
   ]
  },
  {
   "cell_type": "markdown",
   "id": "4f1b1f8d",
   "metadata": {},
   "source": [
    "1. List popular languages for Data Sience\n",
    "2. List commonly used libraries \n",
    "3. Data Sience tools\n",
    "4. Examples"
   ]
  },
  {
   "cell_type": "markdown",
   "id": "d0dfbe15",
   "metadata": {},
   "source": [
    "## Author\n",
    "Manizha "
   ]
  },
  {
   "cell_type": "code",
   "execution_count": null,
   "id": "4fb72537",
   "metadata": {},
   "outputs": [],
   "source": []
  }
 ],
 "metadata": {
  "kernelspec": {
   "display_name": "Python 3 (ipykernel)",
   "language": "python",
   "name": "python3"
  },
  "language_info": {
   "codemirror_mode": {
    "name": "ipython",
    "version": 3
   },
   "file_extension": ".py",
   "mimetype": "text/x-python",
   "name": "python",
   "nbconvert_exporter": "python",
   "pygments_lexer": "ipython3",
   "version": "3.9.7"
  }
 },
 "nbformat": 4,
 "nbformat_minor": 5
}
